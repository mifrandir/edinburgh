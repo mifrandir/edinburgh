{
 "cells": [
  {
   "cell_type": "markdown",
   "metadata": {},
   "source": [
    "# Foundation Data Sciences\n",
    "## Week 08: Principal Component Analysis"
   ]
  },
  {
   "cell_type": "markdown",
   "metadata": {},
   "source": [
    "**Learning outcomes:** \n",
    "In this lab you will implement PCA from scratch and compare your outcomes to the standard scikit-learn PCA. By the end of the lab you should be able to:\n",
    "- explain the difference between standardization, normalization, and scaling,\n",
    "- explain why it is important to standardize data prior to PCA,\n",
    "- implement PCA from scratch,\n",
    "- use the sklearn library to get the principal components from a data set."
   ]
  },
  {
   "cell_type": "markdown",
   "metadata": {},
   "source": [
    "In this lab we will first try to use PCA on a breast cancer patients data set in order to help predict whether a cancer is benign or malignant. As with the diabetes data set, this week, we will take only the first two steps (plotting our initial data and preparing our data). However, we will learn a new preprocessing step, which can be extremely beneficial to inspect our data and apply further steps more efficiently. In the next lab, we will run actual algorithms to predict the diagnosis of patients from their symptoms. \n",
    "In the last part of this lab, we will go back to the diabetes data set from week 05, in order to get one step closer to predicting whether patients have diabetes or not.\n",
    "\n",
    "**Data set information:** The new data set is from [UCI](https://archive.ics.uci.edu/ml/datasets/Breast+Cancer+Wisconsin+(Diagnostic)). It contains patients information taken from patients with benign and malignant breast cancer."
   ]
  },
  {
   "cell_type": "code",
   "execution_count": 2,
   "metadata": {},
   "outputs": [],
   "source": [
    "import os\n",
    "import pandas as pd\n",
    "import numpy as np\n",
    "import matplotlib.pyplot as plt\n",
    "import seaborn as sns\n",
    "#Importing sklearn functions\n",
    "from sklearn.decomposition import PCA\n",
    "from sklearn.preprocessing import StandardScaler"
   ]
  },
  {
   "cell_type": "markdown",
   "metadata": {},
   "source": [
    "**Discussion:** Try to remember with your lab partner what PCA is useful for."
   ]
  },
  {
   "cell_type": "markdown",
   "metadata": {},
   "source": [
    "Your answer:"
   ]
  },
  {
   "cell_type": "markdown",
   "metadata": {},
   "source": [
    "We start as usual by loading data, inspecting data, and cleaning data.\n",
    "\n",
    "**Exercise 01:**\n",
    "- Load the `breast_cancer.csv` file from `datasets`, and store it as `breast_cancer`.\n",
    "- Print out the first few lines of the data set.\n",
    "- We have a few problems in the data set:\n",
    "    - we don't need the patients' ids, and for privacy issues we want to remove them,\n",
    "    - the diagnosis column has as values 'M' and 'B', which is in a format which makes it hard to apply mathematical operations to, and\n",
    "    - the last column 'Unnamed: 32' seems completely useless.\n",
    "- Fix the problems as follows:\n",
    "     - Remove the `id` column, and the `Unnamed: 32` column.\n",
    "     - Replace the 'M's and 'B's values with 1 and 0. (Hint: look up the documentation for `replace` in the pandas documentation).\n",
    "     - Remove all rows that have NaN values.\n",
    "- Plot the data set in a pair plot, where malignant and benign cancers are colored differently. (Hint: For speed up, and readability use only 8 columns of your choice.)\n",
    "- Save the diagnosis column in a separate pandas series, called `diagnosis` and remove it from the `breast_cancer` dataframe.\n",
    "-  Finally, print out the first few entries to make sure that all changes you made to the data set are as expected."
   ]
  },
  {
   "cell_type": "code",
   "execution_count": 88,
   "metadata": {},
   "outputs": [],
   "source": [
    "# Your code\n",
    "breast_cancer = pd.read_csv('datasets/breast_cancer.csv')\n",
    "del breast_cancer['id']\n",
    "del breast_cancer['Unnamed: 32']\n",
    "\n",
    "breast_cancer = breast_cancer.replace('M',1).replace('B',0)\n",
    "breast_cancer.head(5)\n",
    "#sns.pairplot(breast_cancer, hue='diagnosis', vars=['radius_mean', 'texture_mean', 'perimeter_mean', 'area_mean', 'smoothness_mean', 'compactness_mean', 'concavity_mean', 'symmetry_mean'])\n",
    "\n",
    "diagnosis = breast_cancer['diagnosis']\n",
    "del breast_cancer['diagnosis']"
   ]
  },
  {
   "cell_type": "markdown",
   "metadata": {},
   "source": [
    "At first glance, it already looks like there are some dimensions with a clear boundary between the two patient groups. Our goal will be to use PCA to make this distinction even clearer.\n",
    "\n",
    "**Remark:** PCA can be especially helpful for data sets where the separation of classes is not that clear. But even in the case above, we might want to take several dimensions into consideration. Furthermore, visualising many more than the 8 variables above is challenging. PCA can help us with both problems.\n",
    "\n",
    "The first step is to standardize the data, as described in the lecture notes. You may read about the similar operations of normalization or scaling when searching online - see this [short article](https://towardsdatascience.com/scale-standardize-or-normalize-with-scikit-learn-6ccc7d176a02) (7 minutes) for descriptions of the terms.\n",
    "\n",
    "**Discussion:** Discuss with your lab partner why standardization is important before applying PCA to a data set."
   ]
  },
  {
   "cell_type": "markdown",
   "metadata": {},
   "source": [
    "Your answer:\n"
   ]
  },
  {
   "cell_type": "markdown",
   "metadata": {},
   "source": [
    "**Exercise 02:** \n",
    "\n",
    "Write a function `def standardize()` that takes as input a data set `df`, and returns a standardized data set. Try not to copy+paste code from the internet, but rather try to think of the math that needs to be applied to the data set. If you are stuck, look up the Week 5 lecture notes (Statistical Preliminaries topic).\n",
    "\n",
    "Call the function on the data set and print it to the screen."
   ]
  },
  {
   "cell_type": "code",
   "execution_count": 122,
   "metadata": {},
   "outputs": [],
   "source": [
    "# Your code\n",
    "import math\n",
    "def standardize(df):\n",
    "    df = df.copy()\n",
    "    for col in list(df):\n",
    "        col_values = df[col]\n",
    "        mu = col_values.mean()\n",
    "        sigma = col_values.std()\n",
    "        df[col] = col_values.apply(lambda x: (x-mu)/sigma)\n",
    "    return df"
   ]
  },
  {
   "cell_type": "markdown",
   "metadata": {},
   "source": [
    "Now, we write the PCA function.\n",
    "\n",
    "**Exercise 03:**\n",
    "\n",
    "Write a function `def principal_component_analysis()` that takes as input a data set `df`. The function should first standardize the data with your `standardize()` function, then compute the covariance matrix of the standardized data set, and finally compute and return the eigenvalues and eigenvectors of the covariance matrix. \n",
    "\n",
    "You may use `np.cov()` and `np.linalg.eig()` to compute the covariance matrix and the eigenvalues and eigenvectors. However, be careful about the shapes of your matrices and vectors. \n",
    "\n",
    "Call the function on the dataset, with the `breast_cancer` dataset and print it to the screen."
   ]
  },
  {
   "cell_type": "code",
   "execution_count": 123,
   "metadata": {},
   "outputs": [],
   "source": [
    "# Your code\n",
    "def principal_component_analysis(df):\n",
    "    df = standardize(df)\n",
    "    cov = np.cov(df)\n",
    "    return np.linalg.eig(cov)"
   ]
  },
  {
   "cell_type": "markdown",
   "metadata": {},
   "source": [
    "**Exercise 04:** \n",
    "\n",
    "If you have read the documentation of `np.linalg.eig()` carefully, you should have read that the eigenvalues are not sorted in any way. However, for PCA, we are interested in a descending order of the eigenvalues (and according eigenvectors).\n",
    "\n",
    "- Write a function `def sort_eigenvalues()`, which takes as first input `eigenvalues`, an array with eigenvalues, and as second input `eigenvectors`, a 2-D array with the associated eigenvectors. The function should sort the eigenvalues and eigenvectors such that the first eigenvalue is the biggest. \n",
    "\n",
    "Careful, look up the documentation of `np.linalg.eig()` again, to be sure how the eigenvalues are connected to the eigenvectors! Hint: `argsort()` from the numpy library might be helpful."
   ]
  },
  {
   "cell_type": "code",
   "execution_count": 124,
   "metadata": {},
   "outputs": [],
   "source": [
    "# Your code\n",
    "def sort_eigenvalues(eigenvalues, eigenvectors):\n",
    "    e = zip(eigenvalues, eigenvectors)\n",
    "    return [list(x) for x in zip(*sorted(e, key=lambda x: abs(x[0]), reverse=True))]"
   ]
  },
  {
   "cell_type": "markdown",
   "metadata": {},
   "source": [
    "**Exercise 05:** \n",
    "- Rewrite your PCA function, such that it returns the eigenvalues and eigenvectors sorted largest to smallest.\n",
    "- The function should also print out the percentage of the variance explained by each principal component, before returning the eigenvalues and eigenvectors."
   ]
  },
  {
   "cell_type": "code",
   "execution_count": 127,
   "metadata": {},
   "outputs": [
    {
     "name": "stdout",
     "output_type": "stream",
     "text": [
      "0.34\n",
      "0.17\n",
      "0.12\n",
      "0.10\n",
      "The first 4 principal components explain 73.7% of the variance\n",
      "[(122.41918421788047+0j), (62.10144854788569+0j)]\n"
     ]
    }
   ],
   "source": [
    "# Your code\n",
    "def principal_component_analysis(df):\n",
    "    df = standardize(df)\n",
    "    cov = np.cov(df)\n",
    "    w,v = sort_eigenvalues(*np.linalg.eig(cov))\n",
    "    s = np.sum(w)\n",
    "    t = 0\n",
    "    n = 4\n",
    "    for x in w[:n]:\n",
    "        t += (x/s).real\n",
    "        print(f'{(x/s).real:.2f}')\n",
    "    print(f'The first {n} principal components explain {t*100:.1f}% of the variance')\n",
    "    return w,v\n",
    "pca = principal_component_analysis(breast_cancer)\n",
    "print(pca[0][:2])"
   ]
  },
  {
   "cell_type": "markdown",
   "metadata": {},
   "source": [
    "Let us compare our largest two eigenvalues and eigenvectors to the output of the PCA model from the sklearn library. The sklearn PCA does not standardize the data automatically, it only centers the data around 0. To get the same results as our implementation, we need to preprocess the data first."
   ]
  },
  {
   "cell_type": "code",
   "execution_count": 126,
   "metadata": {},
   "outputs": [
    {
     "name": "stdout",
     "output_type": "stream",
     "text": [
      "[13.28160768  5.69135461]\n",
      "[[ 0.21890244  0.10372458  0.22753729  0.22099499  0.14258969  0.23928535\n",
      "   0.25840048  0.26085376  0.13816696  0.06436335  0.20597878  0.01742803\n",
      "   0.21132592  0.20286964  0.01453145  0.17039345  0.15358979  0.1834174\n",
      "   0.04249842  0.10256832  0.22799663  0.10446933  0.23663968  0.22487053\n",
      "   0.12795256  0.21009588  0.22876753  0.25088597  0.12290456  0.13178394]\n",
      " [-0.23385713 -0.05970609 -0.21518136 -0.23107671  0.18611302  0.15189161\n",
      "   0.06016536 -0.0347675   0.19034877  0.36657547 -0.10555215  0.08997968\n",
      "  -0.08945723 -0.15229263  0.20443045  0.2327159   0.19720728  0.13032156\n",
      "   0.183848    0.28009203 -0.21986638 -0.0454673  -0.19987843 -0.21935186\n",
      "   0.17230435  0.14359317  0.09796411 -0.00825724  0.14188335  0.27533947]]\n"
     ]
    }
   ],
   "source": [
    "standardized = standardize(breast_cancer)\n",
    "pca = PCA(n_components=2).fit(standardized.values) # number of principil components that we are interested in\n",
    "print(pca.explained_variance_) # Eigenvalues\n",
    "print(pca.components_) # Eigenvector (Careful: sklearn returns the eigenvectors in columns in contrast to numpy)"
   ]
  },
  {
   "cell_type": "markdown",
   "metadata": {},
   "source": [
    "Finally, we want to visualize our PCA results.\n",
    "\n",
    "**Exercise 06:**\n",
    "- Call your `principal_component_analysis()` function on the data set and store the return values.\n",
    "- Apply the first two PC vectors to the standardized(!) data set and store it in a new variable `result`. (Careful about the orientation of your arrays.)\n",
    "- Plot a scatterplot from the data in `result`, where you use `hue = diagnosis` to color the different data points according to the type of cancer they represent.\n",
    "- Can you spot a clear separation between benign and malignant cancer?"
   ]
  },
  {
   "cell_type": "code",
   "execution_count": null,
   "metadata": {},
   "outputs": [],
   "source": [
    "# Your code\n"
   ]
  },
  {
   "cell_type": "markdown",
   "metadata": {},
   "source": [
    "Finally, let us apply the sklearn model we fitted above to the data. Again, we need to apply it to the standardized data. Because multiplying the data with the principal component vectors transforms the data, the method we need to call is `model.transform()`."
   ]
  },
  {
   "cell_type": "code",
   "execution_count": null,
   "metadata": {},
   "outputs": [],
   "source": [
    "standardized = standardize(breast_cancer)\n",
    "pca = PCA(n_components=30).fit(standardized.values)\n",
    "pca_result = pca.transform(standardized.values)\n",
    "sns.scatterplot(x=pca_result[:, 0], y=pca_result[:, 1], hue=diagnosis)\n",
    "plt.xlabel('PC1')\n",
    "plt.ylabel('PC2')"
   ]
  },
  {
   "cell_type": "markdown",
   "metadata": {},
   "source": [
    "**Exercise 07:**\n",
    "\n",
    "In the week 05 lab, we started to look at a diabetes data set. The last activity in this lab is to see if PCA will also help us to visualize that data set.\n",
    "\n",
    "a)\n",
    "\n",
    "- Load the diabetes data set.\n",
    "- Plot the pair plot of that lab, with `hue='Outcome'`.\n",
    "- Do you think that PCA will give a clear cut distinction that is as good as for the breast cancer data set? Hint: Compare the pair plot of the diabetes data set and the breast cancer data set.\n",
    "- See if you can remember how the data should be cleaned to remove data points that seem erroneous."
   ]
  },
  {
   "cell_type": "code",
   "execution_count": null,
   "metadata": {},
   "outputs": [],
   "source": [
    "# Your code"
   ]
  },
  {
   "cell_type": "markdown",
   "metadata": {},
   "source": [
    "b) \n",
    "- Create a new Pandas Series from the `Outcome` column, store it in `diagnosis_diabetes`, and drop the column from your data set.\n",
    "- Apply your PCA model, and plot the scatter plot of the first two principal components."
   ]
  },
  {
   "cell_type": "code",
   "execution_count": null,
   "metadata": {},
   "outputs": [],
   "source": [
    "# Your code\n"
   ]
  },
  {
   "cell_type": "markdown",
   "metadata": {},
   "source": [
    "**Discussion:**\n",
    "\n",
    "Discuss with your lab partner whether you can already make out two distinct clusters.\n",
    "Look at the output of your PCA algorithm, and see how many PCs you would need to take into account to get as much explanation as with the first two components of the breast cancer example.\n",
    "\n",
    "We cannot plot scatter plots with more than three dimensions, however, we can at least plot three dimensions. Run the following script, and discuss whether it looks like we can distinguish diabetes from non-diabetes patients. Hint: Remember that you can set the range of variables with `ax.set_xlim([xmin,xmax])`, in order to look at a range of interest closer."
   ]
  },
  {
   "cell_type": "code",
   "execution_count": null,
   "metadata": {},
   "outputs": [],
   "source": [
    "fig = plt.figure(figsize=(15,15))\n",
    "ax = fig.add_subplot(111, projection='3d')\n",
    "\n",
    "ax.scatter(result_diabetes[0], result_diabetes[1], result_diabetes[2], c=diagnosis_diabetes)\n",
    "\n",
    "ax.set_xlabel('PC1')\n",
    "ax.set_ylabel('PC2')\n",
    "ax.set_zlabel('PC3')\n",
    "\n",
    "plt.show()"
   ]
  },
  {
   "cell_type": "markdown",
   "metadata": {},
   "source": [
    "In the next lab, we will use K-Means to try to cluster the patients with and without diabetes into two different groups, and then we will try to predict whether new patients have diabetes.\n",
    "\n",
    "**We need your help:** This is a new course. In order for us to improve the labs for the next iteration, we need your feedback. Please fill out the following [form](https://forms.office.com/Pages/ResponsePage.aspx?id=sAafLmkWiUWHiRCgaTTcYZmGMCx4KxlMjSTITqjdcXpUNFlYTk1LNDBYODRKV0o5TlhCWVc4U0tLOC4u)."
   ]
  },
  {
   "cell_type": "markdown",
   "metadata": {},
   "source": [
    "**Optional Exercise:**\n",
    "\n",
    "Compare the output of your PCA algorithm to a PCA applied to the data set without having cleaning it before. Hint: You might have to reload the data set, if you haven't stored the cleaned data set in a separate variable."
   ]
  },
  {
   "cell_type": "code",
   "execution_count": null,
   "metadata": {},
   "outputs": [],
   "source": [
    "# Your code\n"
   ]
  }
 ],
 "metadata": {
  "anaconda-cloud": {},
  "kernelspec": {
   "display_name": "Python 3",
   "language": "python",
   "name": "python3"
  },
  "language_info": {
   "codemirror_mode": {
    "name": "ipython",
    "version": 3
   },
   "file_extension": ".py",
   "mimetype": "text/x-python",
   "name": "python",
   "nbconvert_exporter": "python",
   "pygments_lexer": "ipython3",
   "version": "3.8.6"
  }
 },
 "nbformat": 4,
 "nbformat_minor": 1
}
